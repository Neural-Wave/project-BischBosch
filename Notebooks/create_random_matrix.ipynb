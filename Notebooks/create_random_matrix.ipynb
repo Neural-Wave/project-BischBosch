{
 "cells": [
  {
   "cell_type": "code",
   "execution_count": 15,
   "id": "ad186403-4fd9-4c9a-9dd2-ccb8c51a5885",
   "metadata": {},
   "outputs": [],
   "source": [
    "import numpy as np\n",
    "import pandas as pd\n",
    "import torch\n",
    "\n",
    "from matteo.data import filter_adj_mat\n",
    "from matteo.data import load_dataset\n",
    "\n",
    "data = load_dataset()\n",
    "measurements = data.drop(columns='label').columns\n",
    "\n",
    "# Create an empty 97x97 matrix\n",
    "matrix = np.zeros((98, 98))\n",
    "\n",
    "# Fill the upper triangle of the matrix\n",
    "for i in range(98):\n",
    "    for j in range(98):\n",
    "        if np.random.rand() < 0.5:\n",
    "            matrix[i, j] = 0\n",
    "        else:\n",
    "            matrix[i, j] = np.random.rand()\n",
    "\n",
    "for i in range(98):\n",
    "    for j in range(98):\n",
    "        if matrix[i,j] > 0 and matrix[j,i] > 0:\n",
    "            matrix[i,j] = 0\n",
    "\n",
    "# Fill the diagonal with 1s\n",
    "np.fill_diagonal(matrix, 0)\n",
    "matrix = filter_adj_mat(matrix, measurements)\n",
    "\n",
    "matrix = torch.from_numpy(matrix)\n",
    "matrix = matrix / torch.sum(matrix, dim=0)\n",
    "matrix = matrix.numpy()\n",
    "\n",
    "# Convert the numpy array to a pandas dataframe\n",
    "df = pd.DataFrame(matrix, columns=measurements)\n",
    "\n",
    "# Save the dataframe as a .csv file\n",
    "df.to_csv('random_matrix.csv', index=False)\n"
   ]
  },
  {
   "cell_type": "code",
   "execution_count": null,
   "id": "f058b691-a3f0-4271-b690-50e626155a1e",
   "metadata": {},
   "outputs": [],
   "source": []
  }
 ],
 "metadata": {
  "kernelspec": {
   "display_name": "Python 3",
   "language": "python",
   "name": "python3"
  },
  "language_info": {
   "codemirror_mode": {
    "name": "ipython",
    "version": 3
   },
   "file_extension": ".py",
   "mimetype": "text/x-python",
   "name": "python",
   "nbconvert_exporter": "python",
   "pygments_lexer": "ipython3",
   "version": "3.10.10"
  }
 },
 "nbformat": 4,
 "nbformat_minor": 5
}
